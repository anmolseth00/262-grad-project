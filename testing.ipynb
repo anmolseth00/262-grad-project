{
 "cells": [
  {
   "cell_type": "markdown",
   "id": "de3726a1-1fa1-4f72-8380-30fea6d70fb6",
   "metadata": {},
   "source": [
    "https://pypi.org/project/arxiv/\n",
    "\n",
    "Turns out there's a python wrapper for the arXiv API"
   ]
  },
  {
   "cell_type": "code",
   "execution_count": 1,
   "id": "5197b943-905d-43af-8cd1-3f501738cc24",
   "metadata": {},
   "outputs": [],
   "source": [
    "!pip install --upgrade --quiet arxiv\n",
    "!pip install --upgrade --quiet pymupdf"
   ]
  },
  {
   "cell_type": "code",
   "execution_count": 2,
   "id": "908da8a5-c347-4bd9-b741-0a52afac81b8",
   "metadata": {},
   "outputs": [],
   "source": [
    "import arxiv"
   ]
  },
  {
   "cell_type": "code",
   "execution_count": 3,
   "id": "11b0d0ed-3957-432a-b3ba-b40e203ba100",
   "metadata": {},
   "outputs": [
    {
     "name": "stdout",
     "output_type": "stream",
     "text": [
      "Mean-field theory of 1+1D $\\mathbb{Z}_2$ lattice gauge theory with matter\n",
      "Pair production in rotating electric fields via quantum kinetic equations: Resolving helicity states\n",
      "Gaussian Process Regression with Soft Inequality and Monotonicity Constraints\n",
      "Dark energy as a geometrical effect in geodetic brane gravity\n",
      "Forecasting the sensitivity of Pulsar Timing Arrays to gravitational wave backgrounds\n",
      "Scalable quantum detector tomography by high-performance computing\n",
      "Efficient Quantum Circuits for Non-Unitary and Unitary Diagonal Operators with Space-Time-Accuracy trade-offs\n",
      "Thermodynamics and Quasinormal Modes of the Dymnikova Black Hole in Higher Dimensions\n",
      "Anyonic quantum multipartite maskers in the Kitaev model\n",
      "Dancing above the abyss: Environmental effects and dark matter signatures in inspirals into massive black holes\n",
      "['Mean-field theory of 1+1D $\\\\mathbb{Z}_2$ lattice gauge theory with matter', 'Pair production in rotating electric fields via quantum kinetic equations: Resolving helicity states', 'Gaussian Process Regression with Soft Inequality and Monotonicity Constraints', 'Dark energy as a geometrical effect in geodetic brane gravity', 'Forecasting the sensitivity of Pulsar Timing Arrays to gravitational wave backgrounds', 'Scalable quantum detector tomography by high-performance computing', 'Efficient Quantum Circuits for Non-Unitary and Unitary Diagonal Operators with Space-Time-Accuracy trade-offs', 'Thermodynamics and Quasinormal Modes of the Dymnikova Black Hole in Higher Dimensions', 'Anyonic quantum multipartite maskers in the Kitaev model', 'Dancing above the abyss: Environmental effects and dark matter signatures in inspirals into massive black holes']\n",
      "http://arxiv.org/abs/cond-mat/0603029v1\n",
      "From stripe to checkerboard order on the square lattice in the presence of quenched disorder\n"
     ]
    }
   ],
   "source": [
    "# Construct the default API client.\n",
    "client = arxiv.Client()\n",
    "\n",
    "# Search for the 10 most recent articles matching the keyword \"quantum.\"\n",
    "search = arxiv.Search(\n",
    "  query = \"quantum\",\n",
    "  max_results = 10,\n",
    "  sort_by = arxiv.SortCriterion.SubmittedDate\n",
    ")\n",
    "\n",
    "results = client.results(search)\n",
    "\n",
    "# `results` is a generator; you can iterate over its elements one by one...\n",
    "for r in client.results(search):\n",
    "  print(r.title)\n",
    "# ...or exhaust it into a list. Careful: this is slow for large results sets.\n",
    "all_results = list(results)\n",
    "print([r.title for r in all_results])\n",
    "\n",
    "# For advanced query syntax documentation, see the arXiv API User Manual:\n",
    "# https://arxiv.org/help/api/user-manual#query_details\n",
    "search = arxiv.Search(query = \"au:del_maestro AND ti:checkerboard\")\n",
    "first_result = next(client.results(search))\n",
    "print(first_result)\n",
    "\n",
    "# Search for the paper with ID \"1605.08386v1\"\n",
    "search_by_id = arxiv.Search(id_list=[\"1605.08386v1\"])\n",
    "# Reuse client to fetch the paper, then print its title.\n",
    "first_result = next(client.results(search))\n",
    "print(first_result.title)"
   ]
  },
  {
   "cell_type": "markdown",
   "id": "e5d68f39-dbe9-4b4c-9fba-405ffdd4057f",
   "metadata": {},
   "source": [
    "Not that impressive, we already have this functionality. But we could use this later to clean up some code I wrote earlier in MVP.ipynb\n",
    "\n",
    "Only interesting feature is the Result.download_pdf() function. Maybe we could add this feature so the user can download a preprint they find interesting"
   ]
  },
  {
   "cell_type": "markdown",
   "id": "f2b006fa-4688-4923-a1da-91bf314160b2",
   "metadata": {},
   "source": [
    "---"
   ]
  },
  {
   "cell_type": "markdown",
   "id": "29102949-eea9-4bdb-a917-806f3189d3e0",
   "metadata": {},
   "source": [
    "Langchain is probably the best way of turning this tool 'conversational'"
   ]
  },
  {
   "cell_type": "code",
   "execution_count": 4,
   "id": "f04cbf6c-7b28-40e5-bec5-6d2929dca37c",
   "metadata": {},
   "outputs": [
    {
     "name": "stdout",
     "output_type": "stream",
     "text": [
      "Collecting langchain\n",
      "  Using cached langchain-0.1.14-py3-none-any.whl.metadata (13 kB)\n",
      "Requirement already satisfied: PyYAML>=5.3 in /Users/alanphlips/anaconda3/envs/262proj/lib/python3.12/site-packages (from langchain) (6.0.1)\n",
      "Collecting SQLAlchemy<3,>=1.4 (from langchain)\n",
      "  Downloading SQLAlchemy-2.0.29-cp312-cp312-macosx_10_9_x86_64.whl.metadata (9.6 kB)\n",
      "Collecting aiohttp<4.0.0,>=3.8.3 (from langchain)\n",
      "  Downloading aiohttp-3.9.3-cp312-cp312-macosx_10_9_x86_64.whl.metadata (7.4 kB)\n",
      "Collecting dataclasses-json<0.7,>=0.5.7 (from langchain)\n",
      "  Using cached dataclasses_json-0.6.4-py3-none-any.whl.metadata (25 kB)\n",
      "Collecting jsonpatch<2.0,>=1.33 (from langchain)\n",
      "  Using cached jsonpatch-1.33-py2.py3-none-any.whl.metadata (3.0 kB)\n",
      "Collecting langchain-community<0.1,>=0.0.30 (from langchain)\n",
      "  Using cached langchain_community-0.0.31-py3-none-any.whl.metadata (8.4 kB)\n",
      "Collecting langchain-core<0.2.0,>=0.1.37 (from langchain)\n",
      "  Using cached langchain_core-0.1.40-py3-none-any.whl.metadata (5.9 kB)\n",
      "Collecting langchain-text-splitters<0.1,>=0.0.1 (from langchain)\n",
      "  Using cached langchain_text_splitters-0.0.1-py3-none-any.whl.metadata (2.0 kB)\n",
      "Collecting langsmith<0.2.0,>=0.1.17 (from langchain)\n",
      "  Using cached langsmith-0.1.40-py3-none-any.whl.metadata (13 kB)\n",
      "Collecting numpy<2,>=1 (from langchain)\n",
      "  Downloading numpy-1.26.4-cp312-cp312-macosx_10_9_x86_64.whl.metadata (61 kB)\n",
      "\u001b[2K     \u001b[90m━━━━━━━━━━━━━━━━━━━━━━━━━━━━━━━━━━━━━━━━\u001b[0m \u001b[32m61.1/61.1 kB\u001b[0m \u001b[31m1.4 MB/s\u001b[0m eta \u001b[36m0:00:00\u001b[0ma \u001b[36m0:00:01\u001b[0m\n",
      "\u001b[?25hRequirement already satisfied: pydantic<3,>=1 in /Users/alanphlips/anaconda3/envs/262proj/lib/python3.12/site-packages (from langchain) (2.6.4)\n",
      "Requirement already satisfied: requests<3,>=2 in /Users/alanphlips/anaconda3/envs/262proj/lib/python3.12/site-packages (from langchain) (2.31.0)\n",
      "Collecting tenacity<9.0.0,>=8.1.0 (from langchain)\n",
      "  Using cached tenacity-8.2.3-py3-none-any.whl.metadata (1.0 kB)\n",
      "Collecting aiosignal>=1.1.2 (from aiohttp<4.0.0,>=3.8.3->langchain)\n",
      "  Using cached aiosignal-1.3.1-py3-none-any.whl.metadata (4.0 kB)\n",
      "Requirement already satisfied: attrs>=17.3.0 in /Users/alanphlips/anaconda3/envs/262proj/lib/python3.12/site-packages (from aiohttp<4.0.0,>=3.8.3->langchain) (23.1.0)\n",
      "Collecting frozenlist>=1.1.1 (from aiohttp<4.0.0,>=3.8.3->langchain)\n",
      "  Downloading frozenlist-1.4.1-cp312-cp312-macosx_10_9_x86_64.whl.metadata (12 kB)\n",
      "Collecting multidict<7.0,>=4.5 (from aiohttp<4.0.0,>=3.8.3->langchain)\n",
      "  Downloading multidict-6.0.5-cp312-cp312-macosx_10_9_x86_64.whl.metadata (4.2 kB)\n",
      "Collecting yarl<2.0,>=1.0 (from aiohttp<4.0.0,>=3.8.3->langchain)\n",
      "  Downloading yarl-1.9.4-cp312-cp312-macosx_10_9_x86_64.whl.metadata (31 kB)\n",
      "Collecting marshmallow<4.0.0,>=3.18.0 (from dataclasses-json<0.7,>=0.5.7->langchain)\n",
      "  Using cached marshmallow-3.21.1-py3-none-any.whl.metadata (7.2 kB)\n",
      "Collecting typing-inspect<1,>=0.4.0 (from dataclasses-json<0.7,>=0.5.7->langchain)\n",
      "  Using cached typing_inspect-0.9.0-py3-none-any.whl.metadata (1.5 kB)\n",
      "Collecting jsonpointer>=1.9 (from jsonpatch<2.0,>=1.33->langchain)\n",
      "  Using cached jsonpointer-2.4-py2.py3-none-any.whl.metadata (2.5 kB)\n",
      "Requirement already satisfied: packaging<24.0,>=23.2 in /Users/alanphlips/anaconda3/envs/262proj/lib/python3.12/site-packages (from langchain-core<0.2.0,>=0.1.37->langchain) (23.2)\n",
      "Collecting orjson<4.0.0,>=3.9.14 (from langsmith<0.2.0,>=0.1.17->langchain)\n",
      "  Downloading orjson-3.10.0-cp312-cp312-macosx_10_15_x86_64.macosx_11_0_arm64.macosx_10_15_universal2.whl.metadata (49 kB)\n",
      "\u001b[2K     \u001b[90m━━━━━━━━━━━━━━━━━━━━━━━━━━━━━━━━━━━━━━━━\u001b[0m \u001b[32m49.5/49.5 kB\u001b[0m \u001b[31m1.4 MB/s\u001b[0m eta \u001b[36m0:00:00\u001b[0m\n",
      "\u001b[?25hRequirement already satisfied: annotated-types>=0.4.0 in /Users/alanphlips/anaconda3/envs/262proj/lib/python3.12/site-packages (from pydantic<3,>=1->langchain) (0.6.0)\n",
      "Requirement already satisfied: pydantic-core==2.16.3 in /Users/alanphlips/anaconda3/envs/262proj/lib/python3.12/site-packages (from pydantic<3,>=1->langchain) (2.16.3)\n",
      "Requirement already satisfied: typing-extensions>=4.6.1 in /Users/alanphlips/anaconda3/envs/262proj/lib/python3.12/site-packages (from pydantic<3,>=1->langchain) (4.9.0)\n",
      "Requirement already satisfied: charset-normalizer<4,>=2 in /Users/alanphlips/anaconda3/envs/262proj/lib/python3.12/site-packages (from requests<3,>=2->langchain) (2.0.4)\n",
      "Requirement already satisfied: idna<4,>=2.5 in /Users/alanphlips/anaconda3/envs/262proj/lib/python3.12/site-packages (from requests<3,>=2->langchain) (3.4)\n",
      "Requirement already satisfied: urllib3<3,>=1.21.1 in /Users/alanphlips/anaconda3/envs/262proj/lib/python3.12/site-packages (from requests<3,>=2->langchain) (2.1.0)\n",
      "Requirement already satisfied: certifi>=2017.4.17 in /Users/alanphlips/anaconda3/envs/262proj/lib/python3.12/site-packages (from requests<3,>=2->langchain) (2024.2.2)\n",
      "Collecting greenlet!=0.4.17 (from SQLAlchemy<3,>=1.4->langchain)\n",
      "  Using cached greenlet-3.0.3.tar.gz (182 kB)\n",
      "  Installing build dependencies ... \u001b[?25ldone\n",
      "\u001b[?25h  Getting requirements to build wheel ... \u001b[?25ldone\n",
      "\u001b[?25h  Installing backend dependencies ... \u001b[?25ldone\n",
      "\u001b[?25h  Preparing metadata (pyproject.toml) ... \u001b[?25ldone\n",
      "\u001b[?25hCollecting mypy-extensions>=0.3.0 (from typing-inspect<1,>=0.4.0->dataclasses-json<0.7,>=0.5.7->langchain)\n",
      "  Using cached mypy_extensions-1.0.0-py3-none-any.whl.metadata (1.1 kB)\n",
      "Using cached langchain-0.1.14-py3-none-any.whl (812 kB)\n",
      "Downloading aiohttp-3.9.3-cp312-cp312-macosx_10_9_x86_64.whl (393 kB)\n",
      "\u001b[2K   \u001b[90m━━━━━━━━━━━━━━━━━━━━━━━━━━━━━━━━━━━━━━━━\u001b[0m \u001b[32m393.7/393.7 kB\u001b[0m \u001b[31m6.1 MB/s\u001b[0m eta \u001b[36m0:00:00\u001b[0m:00:01\u001b[0m\n",
      "\u001b[?25hUsing cached dataclasses_json-0.6.4-py3-none-any.whl (28 kB)\n",
      "Using cached jsonpatch-1.33-py2.py3-none-any.whl (12 kB)\n",
      "Using cached langchain_community-0.0.31-py3-none-any.whl (1.9 MB)\n",
      "Using cached langchain_core-0.1.40-py3-none-any.whl (276 kB)\n",
      "Using cached langchain_text_splitters-0.0.1-py3-none-any.whl (21 kB)\n",
      "Using cached langsmith-0.1.40-py3-none-any.whl (87 kB)\n",
      "Downloading numpy-1.26.4-cp312-cp312-macosx_10_9_x86_64.whl (20.3 MB)\n",
      "\u001b[2K   \u001b[90m━━━━━━━━━━━━━━━━━━━━━━━━━━━━━━━━━━━━━━━━\u001b[0m \u001b[32m20.3/20.3 MB\u001b[0m \u001b[31m33.2 MB/s\u001b[0m eta \u001b[36m0:00:00\u001b[0m00:01\u001b[0m00:01\u001b[0m\n",
      "\u001b[?25hDownloading SQLAlchemy-2.0.29-cp312-cp312-macosx_10_9_x86_64.whl (2.1 MB)\n",
      "\u001b[2K   \u001b[90m━━━━━━━━━━━━━━━━━━━━━━━━━━━━━━━━━━━━━━━━\u001b[0m \u001b[32m2.1/2.1 MB\u001b[0m \u001b[31m28.6 MB/s\u001b[0m eta \u001b[36m0:00:00\u001b[0ma \u001b[36m0:00:01\u001b[0m\n",
      "\u001b[?25hUsing cached tenacity-8.2.3-py3-none-any.whl (24 kB)\n",
      "Using cached aiosignal-1.3.1-py3-none-any.whl (7.6 kB)\n",
      "Downloading frozenlist-1.4.1-cp312-cp312-macosx_10_9_x86_64.whl (53 kB)\n",
      "\u001b[2K   \u001b[90m━━━━━━━━━━━━━━━━━━━━━━━━━━━━━━━━━━━━━━━━\u001b[0m \u001b[32m53.7/53.7 kB\u001b[0m \u001b[31m1.6 MB/s\u001b[0m eta \u001b[36m0:00:00\u001b[0m\n",
      "\u001b[?25hUsing cached jsonpointer-2.4-py2.py3-none-any.whl (7.8 kB)\n",
      "Using cached marshmallow-3.21.1-py3-none-any.whl (49 kB)\n",
      "Downloading multidict-6.0.5-cp312-cp312-macosx_10_9_x86_64.whl (29 kB)\n",
      "Downloading orjson-3.10.0-cp312-cp312-macosx_10_15_x86_64.macosx_11_0_arm64.macosx_10_15_universal2.whl (252 kB)\n",
      "\u001b[2K   \u001b[90m━━━━━━━━━━━━━━━━━━━━━━━━━━━━━━━━━━━━━━━━\u001b[0m \u001b[32m252.3/252.3 kB\u001b[0m \u001b[31m8.0 MB/s\u001b[0m eta \u001b[36m0:00:00\u001b[0m\n",
      "\u001b[?25hUsing cached typing_inspect-0.9.0-py3-none-any.whl (8.8 kB)\n",
      "Downloading yarl-1.9.4-cp312-cp312-macosx_10_9_x86_64.whl (81 kB)\n",
      "\u001b[2K   \u001b[90m━━━━━━━━━━━━━━━━━━━━━━━━━━━━━━━━━━━━━━━━\u001b[0m \u001b[32m81.6/81.6 kB\u001b[0m \u001b[31m2.6 MB/s\u001b[0m eta \u001b[36m0:00:00\u001b[0m\n",
      "\u001b[?25hUsing cached mypy_extensions-1.0.0-py3-none-any.whl (4.7 kB)\n",
      "Building wheels for collected packages: greenlet\n",
      "  Building wheel for greenlet (pyproject.toml) ... \u001b[?25ldone\n",
      "\u001b[?25h  Created wheel for greenlet: filename=greenlet-3.0.3-cp312-cp312-macosx_10_9_x86_64.whl size=215051 sha256=6086d9d26a492e0cdbac57a1b965d892e968dc5ebf6ceb19f0dbad034ed49f8c\n",
      "  Stored in directory: /Users/alanphlips/Library/Caches/pip/wheels/83/96/fd/f13a9a496711b39256f0af202a7123981f868a36f7ef8d8e9c\n",
      "Successfully built greenlet\n",
      "Installing collected packages: tenacity, orjson, numpy, mypy-extensions, multidict, marshmallow, jsonpointer, greenlet, frozenlist, yarl, typing-inspect, SQLAlchemy, jsonpatch, aiosignal, langsmith, dataclasses-json, aiohttp, langchain-core, langchain-text-splitters, langchain-community, langchain\n",
      "Successfully installed SQLAlchemy-2.0.29 aiohttp-3.9.3 aiosignal-1.3.1 dataclasses-json-0.6.4 frozenlist-1.4.1 greenlet-3.0.3 jsonpatch-1.33 jsonpointer-2.4 langchain-0.1.14 langchain-community-0.0.31 langchain-core-0.1.40 langchain-text-splitters-0.0.1 langsmith-0.1.40 marshmallow-3.21.1 multidict-6.0.5 mypy-extensions-1.0.0 numpy-1.26.4 orjson-3.10.0 tenacity-8.2.3 typing-inspect-0.9.0 yarl-1.9.4\n"
     ]
    }
   ],
   "source": [
    "!pip install --upgrade langchain"
   ]
  },
  {
   "cell_type": "code",
   "execution_count": 5,
   "id": "47384ccf-ddfd-4f2f-8531-e68924ba92a1",
   "metadata": {},
   "outputs": [],
   "source": [
    "from langchain_community.document_loaders import ArxivLoader"
   ]
  },
  {
   "cell_type": "code",
   "execution_count": 6,
   "id": "ab9e8af3-ee54-483d-a698-8493066ade3d",
   "metadata": {},
   "outputs": [
    {
     "data": {
      "text/plain": [
       "2"
      ]
     },
     "execution_count": 6,
     "metadata": {},
     "output_type": "execute_result"
    }
   ],
   "source": [
    "docs = ArxivLoader(query=\"quantum computing\", load_max_docs=2).load()\n",
    "len(docs)"
   ]
  },
  {
   "cell_type": "code",
   "execution_count": 7,
   "id": "b9cb184d-6e23-4eec-8110-f68be2fbff14",
   "metadata": {},
   "outputs": [
    {
     "data": {
      "text/plain": [
       "{'Published': '2022-08-01',\n",
       " 'Title': 'The Rise of Quantum Internet Computing',\n",
       " 'Authors': 'Seng W. Loke',\n",
       " 'Summary': 'This article highlights quantum Internet computing as referring to\\ndistributed quantum computing over the quantum Internet, analogous to\\n(classical) Internet computing involving (classical) distributed computing over\\nthe (classical) Internet. Relevant to quantum Internet computing would be areas\\nof study such as quantum protocols for distributed nodes using quantum\\ninformation for computations, quantum cloud computing, delegated verifiable\\nblind or private computing, non-local gates, and distributed quantum\\napplications, over Internet-scale distances.'}"
      ]
     },
     "execution_count": 7,
     "metadata": {},
     "output_type": "execute_result"
    }
   ],
   "source": [
    "docs[0].metadata  # meta-information of the Document"
   ]
  },
  {
   "cell_type": "code",
   "execution_count": 8,
   "id": "2165b71b-903c-4126-a684-5b35f265d284",
   "metadata": {},
   "outputs": [
    {
     "data": {
      "text/plain": [
       "'arXiv:2208.00733v1  [cs.ET]  1 Aug 2022\\nIEEE IOT MAGAZINE, VOL. XX, NO. X, X 2022\\n1\\nThe Rise of Quantum Internet Computing\\nSeng W. Loke, Member, IEEE\\nAbstract—This article highlights quantum Internet computing as referring to distributed quantum computing over the quantum Internet,\\nanalogous to (classical) Internet computing involving (classical) distributed computing over the (classical) Internet. Relevant to\\nquantum Internet computing would be areas of study such as quantum protocols for distributed nodes using quantum information for\\ncomputations, quantum cloud computing, delegated veriﬁable blind or private computing, non-local gates, and distributed quantum\\napplications, over Internet-scale distances.\\nIndex Terms—quantum Internet computing, quantum Internet, distributed quantum computing, Internet computing, distributed\\nsystems, Internet\\n”This work has been submitted to the IEEE for possible publication. Copyright may be transferred without notice, after which this\\nversion may no longer be accessible.”\\n✦\\n1\\nINTRODUCTION\\nT\\nHERE have been tremendous developments in quantum\\ncomputing, quantum cryptography, quantum commu-\\nnications and the quantum Internet, and we have seen\\nincreased investments and intensive research in quantum\\ncomputing in recent years [1], [2]. The quantum Internet will\\nnot necessarily replace the (classical) Internet we know and\\nuse today, at least not in the near future, but can complement\\nthe current Internet. The quantum Internet aims to enable\\nrobust quantum teleportation (or transmission) of qubits,1\\nand entanglement among qubits,2 over long Internet-scale\\ndistances, which are key to many of the quantum protocols\\nincluding quantum key distribution, quantum voting, and\\nothers, as well as for non-local control of quantum gates.\\nThere have been efforts to build quantum computers,\\nand it remains to see if any one paradigm becomes the\\ndominant or best way of building such quantum comput-\\ners. At the same time, even as researchers develop more\\npowerful quantum computers (supporting more qubits for\\noperations, and at lower error rates), there is an opportunity\\nfor connecting multiple quantum computers from differ-\\nent sites to achieve much more complex quantum com-\\nputations, i.e., inter-linking multiple quantum computers\\non different sites to perform distributed computing with\\na distributed system of quantum computers (or quantum\\nprocessing units (QPUs) at different nodes), arriving at the\\nnotion of distributed quantum computing, e.g., [3].\\nWhile distributed quantum computing can involve mul-\\ntiple QPUs next to each other or at the same site, with the\\nquantum Internet, one can envision distributed quantum\\n•\\nSeng W. Loke is with the School of Information Technology, Deakin\\nUniversity, Melbourne, Australia.\\nE-mail: see https://www.deakin.edu.au/about-deakin/people/seng-loke.\\nManuscript received X XX, 20XX; revised X XX, 20XX.\\n1. A qubit is the basic unit of quantum information, and can be\\nthought of as a two-state, or two-levelled, quantum-mechanical system,\\nsuch as an electron’s spin, where the two levels are spin up and spin\\ndown, or a photon’s polarization, where the two states are the vertical\\npolarization and the horizontal polarization.\\n2. Multiple qubits at different sites can share an entangled state, a\\nsuperpositon of “specially correlated” states, to be used in distributed\\nalgorithms.\\ncomputing over nodes geographically far apart. As noted\\nin [4], the idea is the quantum Internet as the “underly-\\ning infrastructure of the Distributed Quantum Computing\\necosystem.”\\nThis article highlights the emerging area of distributed\\nquantum computing over the quantum Internet, which we\\nrefer to as quantum Internet computing, i.e., the idea of com-\\nputing using quantumly connected distributed quantum\\ncomputers over Internet-scale distances. Hence, quantum\\nInternet computing is not a new concept in itself but a\\nproposed “umbrella term” used here for the collection of\\ntopics (listed below), from an analogy to (classical) Internet\\ncomputing.\\nInternet computing, where one does distributed comput-\\ning but over Internet-scale distances and distributed sys-\\ntems involve nodes connected via the Internet, is at the inter-\\nsection of work in (classical) distributed computing and the\\n(classical) Internet. Analogous to Internet computing, one\\ncould ask the question of what would be at the intersection\\nof work in distributed quantum computing and work on the\\nquantum Internet, which brings us to the notion of quantum\\nInternet computing.\\nAlso, while the quantum Internet and distributed quan-\\ntum computing are still nascent research areas, there are at\\nleast three key topics which can be considered as relevant to\\nquantum Internet computing:\\n•\\ndistributed quantum computing, including quantum\\nprotocols from theoretical perspectives involving\\ncommunication complexity studies, and distributed\\nquantum computing via non-local or distributed\\nquantum gates,\\n•\\nquantum cloud computing with a focus on delegat-\\ning quantum computations, blind quantum comput-\\ning, and verifying delegated quantum computations,\\nand\\n•\\ncomputations and algorithms for the quantum Inter-\\nnet including key ideas such as quantum entangle-\\nment distillation, entanglement swapping, quantum\\nIEEE IOT MAGAZINE, VOL. XX, NO. X, X 2022\\n2\\nrepeaters, and quantum Internet standards.3\\nWe brieﬂy discuss the above topics in the following sections.\\n2\\nDISTRIBUTED QUANTUM COMPUTING\\nDistributed quantum computing problems and quantum\\nprotocols have been well-studied for over two decades,\\nfrom a theoretical computer science perspective,4 many of\\nwhich have their inspiration from classical distributed com-\\nputing research. Quantum versions of classical distributed\\ncomputing problems and protocols, and new forms of dis-\\ntributed computing using quantum information, have been\\nexplored, e.g., the distributed three-party product problem,\\nthe distributed Deutsch-Jozsa promise problem and the\\ndistributed intersection problem, demonstrating how, for\\nsome problems, quantum information can enable fewer\\nbits of communication to be used for a solution, and how\\ncertain distributed computation problems can be solved\\nwith quantum information, but cannot be solved classically.\\nMany quantum protocols, including quantum coin ﬂipping,\\nquantum leader election, quantum anonymous broadcast-\\ning, quantum voting, quantum Byzantine Generals, quan-\\ntum secret sharing, and quantum oblivious transfer, can\\nbe viewed as “quantum versions” of classical distributed\\ncomputing problems, and have been studied extensively.\\nAnother area of study, which has also been considered\\nas distributed quantum computing, is non-local gates, or\\nthe non-local control of quantum gates, including early\\nwork nearly over two decades ago.5 Key to performing\\nsuch non-local control of quantum gates is the use of en-\\ntanglement, which can be viewed as a resource for such\\nnon-local computations. More recent work has looked at\\nhow to partition the computations of distributed quantum\\ncircuits over multiple QPUs, e.g., [3] as we mentioned earlier\\n- with considerations including distributing computations\\nin such a way as to optimize performance and to reduce the\\nrequirements on entanglement, since if the entanglements\\nrequired are generated at too low a rate, this will hold up\\ncomputations. The key motivation here is to inter-link a\\nset of quantum computers to form effectively a much more\\npowerful quantum computer.\\n3\\nQUANTUM CLOUD COMPUTING AND DELEGAT-\\nING QUANTUM COMPUTATIONS\\nWe have seen big tech companies and startups offering\\nquantum computing as a service similar to accessing other\\ncloud service offerings, which is a fantastic resource for\\nexperimentation and studies.\\nMore formally, studies into delegating quantum com-\\nputation from a client (which can be either classical, or\\nalmost classical, i.e., with minimal capability to perform\\n3. For example, see https://www.ietf.org/archive/id/draft-irtf-qirg-principles-10.html\\n[last accessed: 1/8/2022]\\n4. For example, see Buhrman and R¨\\nohrig’s paper dating back to\\n2003: https://link.springer.com/chapter/10.1007/978-3-540-45138-9 1\\n[last accessed: 1/8/2022]\\n5. For example, see the work by Yimsiriwattana and Lomonaco\\nJr.\\nin\\nhttps://arxiv.org/pdf/quant-ph/0402148.pdf\\nand\\na\\ndistributed\\nversion\\nof\\nShor’s\\nfamous\\nfactorization\\nalgorithm\\nhttps://arxiv.org/abs/2207.05976 [last accessed: 1/8/2022]\\ncomputations such as teleporting qubits, applying simple\\nPauli quantum operations, and doing basic measurements)\\nwhich is much more restricted than the server (assumed\\nto be a universal quantum computer) have been studied,\\ncalled delegated quantum computing. And when the server\\nis prevented from knowing the client’s inputs but still can\\nperform delegated computations, by a technique such as\\nthe quantum one-time pad (where the client applies Pauli\\noperations to add uncertainty from the server’s perspective,\\nthereby effectively encrypting the quantum inputs it sends\\nto the server, and keeps track of operations it later needs\\nto decrypt the outputs from the server), this is called blind\\nquantum computing.\\nIn order to be sure that the server does indeed perform\\nthe required quantum operations delegated to it by the\\nclient, the client can embed tests (or test runs) into the\\ndelegated computations, so that the server (not being able\\nto distinguish between tests and normal computations) can\\nbe caught out if it did not perform the required compu-\\ntations properly. That is, the client can verify if the server\\nperformed the required quantum computations.6 Further\\nabstractions for delegating quantum computations with\\nsupporting cloud services continues to be investigated.\\n4\\nTHE QUANTUM INTERNET\\nAs we mentioned earlier, work on the quantum Internet\\nfocuses on how to efﬁciently enable robust entanglement\\nshared among qubits over long geographical distances. If\\ntwo nodes in different continents share entangled states,\\nthen, this can be a resource to do non-local gates, i.e.,\\nto perform distributed quantum compu'"
      ]
     },
     "execution_count": 8,
     "metadata": {},
     "output_type": "execute_result"
    }
   ],
   "source": [
    "docs[0].page_content[:10000]  # all pages of the Document content"
   ]
  },
  {
   "cell_type": "markdown",
   "id": "b6576c19-4f1a-496e-bf5e-fd2ab1ecf904",
   "metadata": {},
   "source": [
    "### Turns out there's already a semantic search feature for arXiv built into langchain"
   ]
  },
  {
   "cell_type": "code",
   "execution_count": 9,
   "id": "3766a138-5c9e-4a66-a01f-ccc848d83a38",
   "metadata": {},
   "outputs": [],
   "source": [
    "# get a token: https://platform.openai.com/account/api-keys\n",
    "\n",
    "from getpass import getpass\n",
    "\n",
    "OPENAI_API_KEY = getpass()"
   ]
  },
  {
   "cell_type": "code",
   "execution_count": 14,
   "id": "63ce0895-43d0-4b66-a9e5-29eb01fb5bae",
   "metadata": {},
   "outputs": [],
   "source": [
    "import os\n",
    "\n",
    "os.environ[\"OPENAI_API_KEY\"] = OPENAI_API_KEY"
   ]
  },
  {
   "cell_type": "code",
   "execution_count": 12,
   "id": "0a1c3520-9e67-4289-be46-927f6f81068a",
   "metadata": {
    "collapsed": true,
    "jupyter": {
     "outputs_hidden": true
    }
   },
   "outputs": [
    {
     "name": "stdout",
     "output_type": "stream",
     "text": [
      "Collecting langchain_openai\n",
      "  Using cached langchain_openai-0.1.1-py3-none-any.whl.metadata (2.5 kB)\n",
      "Requirement already satisfied: langchain-core<0.2.0,>=0.1.33 in /Users/alanphlips/anaconda3/envs/262proj/lib/python3.12/site-packages (from langchain_openai) (0.1.40)\n",
      "Requirement already satisfied: openai<2.0.0,>=1.10.0 in /Users/alanphlips/anaconda3/envs/262proj/lib/python3.12/site-packages (from langchain_openai) (1.16.2)\n",
      "Collecting tiktoken<1,>=0.5.2 (from langchain_openai)\n",
      "  Downloading tiktoken-0.6.0-cp312-cp312-macosx_10_9_x86_64.whl.metadata (6.6 kB)\n",
      "Requirement already satisfied: PyYAML>=5.3 in /Users/alanphlips/anaconda3/envs/262proj/lib/python3.12/site-packages (from langchain-core<0.2.0,>=0.1.33->langchain_openai) (6.0.1)\n",
      "Requirement already satisfied: jsonpatch<2.0,>=1.33 in /Users/alanphlips/anaconda3/envs/262proj/lib/python3.12/site-packages (from langchain-core<0.2.0,>=0.1.33->langchain_openai) (1.33)\n",
      "Requirement already satisfied: langsmith<0.2.0,>=0.1.0 in /Users/alanphlips/anaconda3/envs/262proj/lib/python3.12/site-packages (from langchain-core<0.2.0,>=0.1.33->langchain_openai) (0.1.40)\n",
      "Requirement already satisfied: packaging<24.0,>=23.2 in /Users/alanphlips/anaconda3/envs/262proj/lib/python3.12/site-packages (from langchain-core<0.2.0,>=0.1.33->langchain_openai) (23.2)\n",
      "Requirement already satisfied: pydantic<3,>=1 in /Users/alanphlips/anaconda3/envs/262proj/lib/python3.12/site-packages (from langchain-core<0.2.0,>=0.1.33->langchain_openai) (2.6.4)\n",
      "Requirement already satisfied: tenacity<9.0.0,>=8.1.0 in /Users/alanphlips/anaconda3/envs/262proj/lib/python3.12/site-packages (from langchain-core<0.2.0,>=0.1.33->langchain_openai) (8.2.3)\n",
      "Requirement already satisfied: anyio<5,>=3.5.0 in /Users/alanphlips/anaconda3/envs/262proj/lib/python3.12/site-packages (from openai<2.0.0,>=1.10.0->langchain_openai) (4.2.0)\n",
      "Requirement already satisfied: distro<2,>=1.7.0 in /Users/alanphlips/anaconda3/envs/262proj/lib/python3.12/site-packages (from openai<2.0.0,>=1.10.0->langchain_openai) (1.9.0)\n",
      "Requirement already satisfied: httpx<1,>=0.23.0 in /Users/alanphlips/anaconda3/envs/262proj/lib/python3.12/site-packages (from openai<2.0.0,>=1.10.0->langchain_openai) (0.27.0)\n",
      "Requirement already satisfied: sniffio in /Users/alanphlips/anaconda3/envs/262proj/lib/python3.12/site-packages (from openai<2.0.0,>=1.10.0->langchain_openai) (1.3.0)\n",
      "Requirement already satisfied: tqdm>4 in /Users/alanphlips/anaconda3/envs/262proj/lib/python3.12/site-packages (from openai<2.0.0,>=1.10.0->langchain_openai) (4.66.2)\n",
      "Requirement already satisfied: typing-extensions<5,>=4.7 in /Users/alanphlips/anaconda3/envs/262proj/lib/python3.12/site-packages (from openai<2.0.0,>=1.10.0->langchain_openai) (4.9.0)\n",
      "Collecting regex>=2022.1.18 (from tiktoken<1,>=0.5.2->langchain_openai)\n",
      "  Downloading regex-2023.12.25-cp312-cp312-macosx_10_9_x86_64.whl.metadata (40 kB)\n",
      "\u001b[2K     \u001b[90m━━━━━━━━━━━━━━━━━━━━━━━━━━━━━━━━━━━━━━━━\u001b[0m \u001b[32m40.9/40.9 kB\u001b[0m \u001b[31m1.0 MB/s\u001b[0m eta \u001b[36m0:00:00\u001b[0m\n",
      "\u001b[?25hRequirement already satisfied: requests>=2.26.0 in /Users/alanphlips/anaconda3/envs/262proj/lib/python3.12/site-packages (from tiktoken<1,>=0.5.2->langchain_openai) (2.31.0)\n",
      "Requirement already satisfied: idna>=2.8 in /Users/alanphlips/anaconda3/envs/262proj/lib/python3.12/site-packages (from anyio<5,>=3.5.0->openai<2.0.0,>=1.10.0->langchain_openai) (3.4)\n",
      "Requirement already satisfied: certifi in /Users/alanphlips/anaconda3/envs/262proj/lib/python3.12/site-packages (from httpx<1,>=0.23.0->openai<2.0.0,>=1.10.0->langchain_openai) (2024.2.2)\n",
      "Requirement already satisfied: httpcore==1.* in /Users/alanphlips/anaconda3/envs/262proj/lib/python3.12/site-packages (from httpx<1,>=0.23.0->openai<2.0.0,>=1.10.0->langchain_openai) (1.0.5)\n",
      "Requirement already satisfied: h11<0.15,>=0.13 in /Users/alanphlips/anaconda3/envs/262proj/lib/python3.12/site-packages (from httpcore==1.*->httpx<1,>=0.23.0->openai<2.0.0,>=1.10.0->langchain_openai) (0.14.0)\n",
      "Requirement already satisfied: jsonpointer>=1.9 in /Users/alanphlips/anaconda3/envs/262proj/lib/python3.12/site-packages (from jsonpatch<2.0,>=1.33->langchain-core<0.2.0,>=0.1.33->langchain_openai) (2.4)\n",
      "Requirement already satisfied: orjson<4.0.0,>=3.9.14 in /Users/alanphlips/anaconda3/envs/262proj/lib/python3.12/site-packages (from langsmith<0.2.0,>=0.1.0->langchain-core<0.2.0,>=0.1.33->langchain_openai) (3.10.0)\n",
      "Requirement already satisfied: annotated-types>=0.4.0 in /Users/alanphlips/anaconda3/envs/262proj/lib/python3.12/site-packages (from pydantic<3,>=1->langchain-core<0.2.0,>=0.1.33->langchain_openai) (0.6.0)\n",
      "Requirement already satisfied: pydantic-core==2.16.3 in /Users/alanphlips/anaconda3/envs/262proj/lib/python3.12/site-packages (from pydantic<3,>=1->langchain-core<0.2.0,>=0.1.33->langchain_openai) (2.16.3)\n",
      "Requirement already satisfied: charset-normalizer<4,>=2 in /Users/alanphlips/anaconda3/envs/262proj/lib/python3.12/site-packages (from requests>=2.26.0->tiktoken<1,>=0.5.2->langchain_openai) (2.0.4)\n",
      "Requirement already satisfied: urllib3<3,>=1.21.1 in /Users/alanphlips/anaconda3/envs/262proj/lib/python3.12/site-packages (from requests>=2.26.0->tiktoken<1,>=0.5.2->langchain_openai) (2.1.0)\n",
      "Using cached langchain_openai-0.1.1-py3-none-any.whl (32 kB)\n",
      "Downloading tiktoken-0.6.0-cp312-cp312-macosx_10_9_x86_64.whl (974 kB)\n",
      "\u001b[2K   \u001b[90m━━━━━━━━━━━━━━━━━━━━━━━━━━━━━━━━━━━━━━━━\u001b[0m \u001b[32m974.7/974.7 kB\u001b[0m \u001b[31m13.7 MB/s\u001b[0m eta \u001b[36m0:00:00\u001b[0m00:01\u001b[0m00:01\u001b[0m\n",
      "\u001b[?25hDownloading regex-2023.12.25-cp312-cp312-macosx_10_9_x86_64.whl (298 kB)\n",
      "\u001b[2K   \u001b[90m━━━━━━━━━━━━━━━━━━━━━━━━━━━━━━━━━━━━━━━━\u001b[0m \u001b[32m298.1/298.1 kB\u001b[0m \u001b[31m10.0 MB/s\u001b[0m eta \u001b[36m0:00:00\u001b[0m\n",
      "\u001b[?25hInstalling collected packages: regex, tiktoken, langchain_openai\n",
      "Successfully installed langchain_openai-0.1.1 regex-2023.12.25 tiktoken-0.6.0\n"
     ]
    }
   ],
   "source": [
    "!pip install langchain_openai"
   ]
  },
  {
   "cell_type": "code",
   "execution_count": 21,
   "id": "754b8bbb-73e0-4820-bd7e-4bd214dfb59e",
   "metadata": {},
   "outputs": [],
   "source": [
    "from langchain.chains import ConversationalRetrievalChain\n",
    "from langchain_openai import ChatOpenAI\n",
    "from langchain_community.retrievers import ArxivRetriever\n",
    "\n",
    "retriever = ArxivRetriever(load_max_docs=3)\n",
    "docs = retriever.get_relevant_documents(query=\"machine learning\")\n",
    "docs[0].metadata #meta-information\n",
    "docs[0].page_content[:400]  # a content of the Document\n",
    "\n",
    "model = ChatOpenAI(model_name=\"gpt-3.5-turbo\")  # switch to 'gpt-4'\n",
    "qa = ConversationalRetrievalChain.from_llm(model, retriever=retriever)"
   ]
  },
  {
   "cell_type": "code",
   "execution_count": 22,
   "id": "9d91f0bd-1096-4835-94a7-2de4d377ff57",
   "metadata": {},
   "outputs": [
    {
     "name": "stdout",
     "output_type": "stream",
     "text": [
      "-> **Question**: What is the Dirichlet Process? \n",
      "\n",
      "**Answer**: The Dirichlet Process is a stochastic process used in probability theory and Bayesian statistics. It is often used as a prior distribution in Bayesian nonparametric models. The Dirichlet process is characterized by its property of clustering data into an unknown number of groups, making it a flexible tool in modeling complex data structures. \n",
      "\n",
      "-> **Question**: When did John Lafferty most recently publish a paper? \n",
      "\n",
      "**Answer**: I don't have that information. \n",
      "\n",
      "-> **Question**: Describe the latest paper by John Lafferty. \n",
      "\n",
      "**Answer**: I don't know the latest paper published by John Lafferty. \n",
      "\n"
     ]
    }
   ],
   "source": [
    "questions = [\n",
    "    #\"What are Heat-bath random walks with Markov base?\",\n",
    "    #\"What is the ImageBind model?\",\n",
    "    #\"How does Compositional Reasoning with Large Language Models works?\",\n",
    "    \"What is the Dirichlet Process?\",\n",
    "    \"When did John Lafferty most recently publish a paper?\",\n",
    "    \"Describe the latest paper by John Lafferty.\",\n",
    "]\n",
    "chat_history = []\n",
    "\n",
    "for question in questions:\n",
    "    result = qa({\"question\": question, \"chat_history\": chat_history})\n",
    "    chat_history.append((question, result[\"answer\"]))\n",
    "    print(f\"-> **Question**: {question} \\n\")\n",
    "    print(f\"**Answer**: {result['answer']} \\n\")"
   ]
  },
  {
   "cell_type": "code",
   "execution_count": 20,
   "id": "3255e8ed-9ff0-45b8-bcc9-2527aed1782e",
   "metadata": {},
   "outputs": [
    {
     "name": "stdout",
     "output_type": "stream",
     "text": [
      "-> **Question**: What are Heat-bath random walks with Markov base? Include references to answer. \n",
      "\n",
      "**Answer**: I don't have information on \"Heat-bath random walks with Markov base\" in the context provided. \n",
      "\n"
     ]
    }
   ],
   "source": [
    "questions = [\n",
    "    \"What are Heat-bath random walks with Markov base? Include references to answer.\",\n",
    "]\n",
    "chat_history = []\n",
    "\n",
    "for question in questions:\n",
    "    result = qa({\"question\": question, \"chat_history\": chat_history})\n",
    "    chat_history.append((question, result[\"answer\"]))\n",
    "    print(f\"-> **Question**: {question} \\n\")\n",
    "    print(f\"**Answer**: {result['answer']} \\n\")"
   ]
  },
  {
   "cell_type": "code",
   "execution_count": null,
   "id": "5a7a4d97",
   "metadata": {},
   "outputs": [],
   "source": []
  }
 ],
 "metadata": {
  "kernelspec": {
   "display_name": "Python 3 (ipykernel)",
   "language": "python",
   "name": "python3"
  },
  "language_info": {
   "codemirror_mode": {
    "name": "ipython",
    "version": 3
   },
   "file_extension": ".py",
   "mimetype": "text/x-python",
   "name": "python",
   "nbconvert_exporter": "python",
   "pygments_lexer": "ipython3",
   "version": "3.12.2"
  }
 },
 "nbformat": 4,
 "nbformat_minor": 5
}
